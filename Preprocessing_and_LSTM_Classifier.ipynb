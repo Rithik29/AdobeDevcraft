{
 "cells": [
  {
   "cell_type": "code",
   "execution_count": 2,
   "id": "de9cfc6d-a8d3-48ec-9140-549508806589",
   "metadata": {
    "tags": []
   },
   "outputs": [
    {
     "name": "stdout",
     "output_type": "stream",
     "text": [
      "Collecting neattext\n",
      "  Downloading neattext-0.1.3-py3-none-any.whl (114 kB)\n",
      "     ---------------------------------------- 0.0/114.7 kB ? eta -:--:--\n",
      "     --- ------------------------------------ 10.2/114.7 kB ? eta -:--:--\n",
      "     ------------- ----------------------- 41.0/114.7 kB 393.8 kB/s eta 0:00:01\n",
      "     -----------------------------------  112.6/114.7 kB 726.2 kB/s eta 0:00:01\n",
      "     ------------------------------------ 114.7/114.7 kB 741.0 kB/s eta 0:00:00\n",
      "Installing collected packages: neattext\n",
      "Successfully installed neattext-0.1.3\n"
     ]
    }
   ],
   "source": [
    "!pip install neattext"
   ]
  },
  {
   "cell_type": "code",
   "execution_count": 2,
   "id": "a76ba38b-f47d-447e-bc7a-2500b5661f1d",
   "metadata": {
    "tags": []
   },
   "outputs": [
    {
     "name": "stdout",
     "output_type": "stream",
     "text": [
      "WARNING:tensorflow:From C:\\Users\\HP\\anaconda3\\Lib\\site-packages\\keras\\src\\losses.py:2976: The name tf.losses.sparse_softmax_cross_entropy is deprecated. Please use tf.compat.v1.losses.sparse_softmax_cross_entropy instead.\n",
      "\n"
     ]
    }
   ],
   "source": [
    "from wordcloud import WordCloud\n",
    "import numpy as np \n",
    "import pandas as pd\n",
    "from sklearn.model_selection import train_test_split\n",
    "# !pip install neattext\n",
    "from keras.models import load_model\n",
    "import neattext.functions as nfx\n",
    "import matplotlib.pyplot as plt\n",
    "import plotly.express as plx\n",
    "from sklearn.metrics import classification_report\n",
    "import keras\n",
    "from keras.layers import Embedding,Dense,LSTM,Bidirectional,GlobalMaxPooling1D,Input,Dropout\n",
    "from keras.callbacks import EarlyStopping,ReduceLROnPlateau\n",
    "from keras.models import Sequential\n",
    "import tensorflow as tf\n",
    "from sklearn.preprocessing import LabelEncoder\n",
    "from keras.preprocessing.text import Tokenizer"
   ]
  },
  {
   "cell_type": "code",
   "execution_count": 3,
   "id": "8db532ad-9d03-4d3d-a35b-93824b4606c4",
   "metadata": {
    "tags": []
   },
   "outputs": [],
   "source": [
    "from keras.utils import pad_sequences\n",
    "from tqdm import tqdm\n",
    "import seaborn as sns\n",
    "import pickle\n",
    "import warnings\n",
    "warnings.filterwarnings('ignore')"
   ]
  },
  {
   "cell_type": "markdown",
   "id": "d99e67d4-8344-4f57-994b-1ddee4712651",
   "metadata": {},
   "source": [
    "### Fething the Merged Data"
   ]
  },
  {
   "cell_type": "code",
   "execution_count": 4,
   "id": "3fca895c-7c3d-419c-b075-392cfd21ee7a",
   "metadata": {
    "tags": []
   },
   "outputs": [],
   "source": [
    "df = pd.read_csv(\"merged_data.csv\")"
   ]
  },
  {
   "cell_type": "code",
   "execution_count": 5,
   "id": "19b05893-7115-4dc5-89e6-c8a15d68f670",
   "metadata": {
    "tags": []
   },
   "outputs": [
    {
     "data": {
      "text/html": [
       "<div>\n",
       "<style scoped>\n",
       "    .dataframe tbody tr th:only-of-type {\n",
       "        vertical-align: middle;\n",
       "    }\n",
       "\n",
       "    .dataframe tbody tr th {\n",
       "        vertical-align: top;\n",
       "    }\n",
       "\n",
       "    .dataframe thead th {\n",
       "        text-align: right;\n",
       "    }\n",
       "</style>\n",
       "<table border=\"1\" class=\"dataframe\">\n",
       "  <thead>\n",
       "    <tr style=\"text-align: right;\">\n",
       "      <th></th>\n",
       "      <th>label</th>\n",
       "      <th>Text</th>\n",
       "      <th>Unnamed: 0.2</th>\n",
       "      <th>Unnamed: 0.1</th>\n",
       "      <th>Unnamed: 0</th>\n",
       "      <th>Unnamed: 0.3</th>\n",
       "    </tr>\n",
       "  </thead>\n",
       "  <tbody>\n",
       "    <tr>\n",
       "      <th>0</th>\n",
       "      <td>1</td>\n",
       "      <td>Deep in the darkest part of your heart Every b...</td>\n",
       "      <td>NaN</td>\n",
       "      <td>NaN</td>\n",
       "      <td>NaN</td>\n",
       "      <td>NaN</td>\n",
       "    </tr>\n",
       "    <tr>\n",
       "      <th>1</th>\n",
       "      <td>1</td>\n",
       "      <td>Pining for a much better quality of life, Open...</td>\n",
       "      <td>NaN</td>\n",
       "      <td>NaN</td>\n",
       "      <td>NaN</td>\n",
       "      <td>NaN</td>\n",
       "    </tr>\n",
       "    <tr>\n",
       "      <th>2</th>\n",
       "      <td>1</td>\n",
       "      <td>Everyone should care. No one should ignore a w...</td>\n",
       "      <td>NaN</td>\n",
       "      <td>NaN</td>\n",
       "      <td>NaN</td>\n",
       "      <td>NaN</td>\n",
       "    </tr>\n",
       "    <tr>\n",
       "      <th>3</th>\n",
       "      <td>1</td>\n",
       "      <td>h-healthy food e-eat a lot a-are you healthy l...</td>\n",
       "      <td>NaN</td>\n",
       "      <td>NaN</td>\n",
       "      <td>NaN</td>\n",
       "      <td>NaN</td>\n",
       "    </tr>\n",
       "    <tr>\n",
       "      <th>4</th>\n",
       "      <td>1</td>\n",
       "      <td>Adorable are women as mothers! Detestable when...</td>\n",
       "      <td>NaN</td>\n",
       "      <td>NaN</td>\n",
       "      <td>NaN</td>\n",
       "      <td>NaN</td>\n",
       "    </tr>\n",
       "    <tr>\n",
       "      <th>5</th>\n",
       "      <td>1</td>\n",
       "      <td>Aborigines lived here for forty thousand years...</td>\n",
       "      <td>NaN</td>\n",
       "      <td>NaN</td>\n",
       "      <td>NaN</td>\n",
       "      <td>NaN</td>\n",
       "    </tr>\n",
       "    <tr>\n",
       "      <th>6</th>\n",
       "      <td>1</td>\n",
       "      <td>Doctors are a noble lot Often misunderstood, a...</td>\n",
       "      <td>NaN</td>\n",
       "      <td>NaN</td>\n",
       "      <td>NaN</td>\n",
       "      <td>NaN</td>\n",
       "    </tr>\n",
       "    <tr>\n",
       "      <th>7</th>\n",
       "      <td>1</td>\n",
       "      <td>Every flower that blooms withers Very true is ...</td>\n",
       "      <td>NaN</td>\n",
       "      <td>NaN</td>\n",
       "      <td>NaN</td>\n",
       "      <td>NaN</td>\n",
       "    </tr>\n",
       "    <tr>\n",
       "      <th>8</th>\n",
       "      <td>1</td>\n",
       "      <td>He gave forgiveness for all who repent In His ...</td>\n",
       "      <td>NaN</td>\n",
       "      <td>NaN</td>\n",
       "      <td>NaN</td>\n",
       "      <td>NaN</td>\n",
       "    </tr>\n",
       "    <tr>\n",
       "      <th>9</th>\n",
       "      <td>1</td>\n",
       "      <td>Kindles my heart with love enthuse my soul wit...</td>\n",
       "      <td>NaN</td>\n",
       "      <td>NaN</td>\n",
       "      <td>NaN</td>\n",
       "      <td>NaN</td>\n",
       "    </tr>\n",
       "    <tr>\n",
       "      <th>10</th>\n",
       "      <td>1</td>\n",
       "      <td>Masquerading stance is your personality a fun ...</td>\n",
       "      <td>NaN</td>\n",
       "      <td>NaN</td>\n",
       "      <td>NaN</td>\n",
       "      <td>NaN</td>\n",
       "    </tr>\n",
       "    <tr>\n",
       "      <th>11</th>\n",
       "      <td>1</td>\n",
       "      <td>Over the years... Passing through Time and tea...</td>\n",
       "      <td>NaN</td>\n",
       "      <td>NaN</td>\n",
       "      <td>NaN</td>\n",
       "      <td>NaN</td>\n",
       "    </tr>\n",
       "    <tr>\n",
       "      <th>12</th>\n",
       "      <td>1</td>\n",
       "      <td>Say you'll never leave me. All my life be true...</td>\n",
       "      <td>NaN</td>\n",
       "      <td>NaN</td>\n",
       "      <td>NaN</td>\n",
       "      <td>NaN</td>\n",
       "    </tr>\n",
       "    <tr>\n",
       "      <th>13</th>\n",
       "      <td>1</td>\n",
       "      <td>TIME, TIDE, DRAW NO IRONY TRAP - WORDED ART WA...</td>\n",
       "      <td>NaN</td>\n",
       "      <td>NaN</td>\n",
       "      <td>NaN</td>\n",
       "      <td>NaN</td>\n",
       "    </tr>\n",
       "    <tr>\n",
       "      <th>14</th>\n",
       "      <td>1</td>\n",
       "      <td>S\\tincere,  Specific O\\tmit Object S\\tad Subje...</td>\n",
       "      <td>NaN</td>\n",
       "      <td>NaN</td>\n",
       "      <td>NaN</td>\n",
       "      <td>NaN</td>\n",
       "    </tr>\n",
       "    <tr>\n",
       "      <th>15</th>\n",
       "      <td>1</td>\n",
       "      <td>The perfect American Beauty Rose, is it dimini...</td>\n",
       "      <td>NaN</td>\n",
       "      <td>NaN</td>\n",
       "      <td>NaN</td>\n",
       "      <td>NaN</td>\n",
       "    </tr>\n",
       "    <tr>\n",
       "      <th>16</th>\n",
       "      <td>1</td>\n",
       "      <td>A thing of beauty is a joy for ever: Its lovli...</td>\n",
       "      <td>NaN</td>\n",
       "      <td>NaN</td>\n",
       "      <td>NaN</td>\n",
       "      <td>NaN</td>\n",
       "    </tr>\n",
       "    <tr>\n",
       "      <th>17</th>\n",
       "      <td>1</td>\n",
       "      <td>Beauty imposes reverence in the Spring, Grave ...</td>\n",
       "      <td>NaN</td>\n",
       "      <td>NaN</td>\n",
       "      <td>NaN</td>\n",
       "      <td>NaN</td>\n",
       "    </tr>\n",
       "    <tr>\n",
       "      <th>18</th>\n",
       "      <td>1</td>\n",
       "      <td>I don’t desire to wear a sad face too long Whe...</td>\n",
       "      <td>NaN</td>\n",
       "      <td>NaN</td>\n",
       "      <td>NaN</td>\n",
       "      <td>NaN</td>\n",
       "    </tr>\n",
       "    <tr>\n",
       "      <th>19</th>\n",
       "      <td>1</td>\n",
       "      <td>beauty is a gift of god love and affection bea...</td>\n",
       "      <td>NaN</td>\n",
       "      <td>NaN</td>\n",
       "      <td>NaN</td>\n",
       "      <td>NaN</td>\n",
       "    </tr>\n",
       "  </tbody>\n",
       "</table>\n",
       "</div>"
      ],
      "text/plain": [
       "    label                                               Text  Unnamed: 0.2  \\\n",
       "0       1  Deep in the darkest part of your heart Every b...           NaN   \n",
       "1       1  Pining for a much better quality of life, Open...           NaN   \n",
       "2       1  Everyone should care. No one should ignore a w...           NaN   \n",
       "3       1  h-healthy food e-eat a lot a-are you healthy l...           NaN   \n",
       "4       1  Adorable are women as mothers! Detestable when...           NaN   \n",
       "5       1  Aborigines lived here for forty thousand years...           NaN   \n",
       "6       1  Doctors are a noble lot Often misunderstood, a...           NaN   \n",
       "7       1  Every flower that blooms withers Very true is ...           NaN   \n",
       "8       1  He gave forgiveness for all who repent In His ...           NaN   \n",
       "9       1  Kindles my heart with love enthuse my soul wit...           NaN   \n",
       "10      1  Masquerading stance is your personality a fun ...           NaN   \n",
       "11      1  Over the years... Passing through Time and tea...           NaN   \n",
       "12      1  Say you'll never leave me. All my life be true...           NaN   \n",
       "13      1  TIME, TIDE, DRAW NO IRONY TRAP - WORDED ART WA...           NaN   \n",
       "14      1  S\\tincere,  Specific O\\tmit Object S\\tad Subje...           NaN   \n",
       "15      1  The perfect American Beauty Rose, is it dimini...           NaN   \n",
       "16      1  A thing of beauty is a joy for ever: Its lovli...           NaN   \n",
       "17      1  Beauty imposes reverence in the Spring, Grave ...           NaN   \n",
       "18      1  I don’t desire to wear a sad face too long Whe...           NaN   \n",
       "19      1  beauty is a gift of god love and affection bea...           NaN   \n",
       "\n",
       "    Unnamed: 0.1  Unnamed: 0  Unnamed: 0.3  \n",
       "0            NaN         NaN           NaN  \n",
       "1            NaN         NaN           NaN  \n",
       "2            NaN         NaN           NaN  \n",
       "3            NaN         NaN           NaN  \n",
       "4            NaN         NaN           NaN  \n",
       "5            NaN         NaN           NaN  \n",
       "6            NaN         NaN           NaN  \n",
       "7            NaN         NaN           NaN  \n",
       "8            NaN         NaN           NaN  \n",
       "9            NaN         NaN           NaN  \n",
       "10           NaN         NaN           NaN  \n",
       "11           NaN         NaN           NaN  \n",
       "12           NaN         NaN           NaN  \n",
       "13           NaN         NaN           NaN  \n",
       "14           NaN         NaN           NaN  \n",
       "15           NaN         NaN           NaN  \n",
       "16           NaN         NaN           NaN  \n",
       "17           NaN         NaN           NaN  \n",
       "18           NaN         NaN           NaN  \n",
       "19           NaN         NaN           NaN  "
      ]
     },
     "execution_count": 5,
     "metadata": {},
     "output_type": "execute_result"
    }
   ],
   "source": [
    "df.head(20)"
   ]
  },
  {
   "cell_type": "code",
   "execution_count": 22,
   "id": "72a9091b-b706-450f-8b49-3653b14e0e9a",
   "metadata": {
    "tags": []
   },
   "outputs": [],
   "source": [
    "df[\"Text\"] = df[\"Text\"].str.lower()\n",
    "X = df[\"Text\"]\n",
    "y = df[\"label\"]\n",
    "X_train, X_test, y_train, y_test = train_test_split(X, y, test_size=0.3, random_state=42)"
   ]
  },
  {
   "cell_type": "code",
   "execution_count": 23,
   "id": "35434ee7-235a-4781-81cf-22140bf93369",
   "metadata": {
    "tags": []
   },
   "outputs": [
    {
     "data": {
      "text/plain": [
       "79     6 devotional paths   to the divine  you  may  ...\n",
       "340    www.samsung.comuser manual2 about this manual ...\n",
       "18     i don’t desire to wear a sad face too long whe...\n",
       "292    google vs. microsoft: tech titans lock horns o...\n",
       "104    provided by   accounting financial statements ...\n",
       "                             ...                        \n",
       "188    lpl - production test collection  centre secto...\n",
       "71     forests: our lifeline  12 one evening boojho e...\n",
       "106    financial statements dr. derek farnsworth  |  ...\n",
       "270    regulatory intervention spurs reflection in fi...\n",
       "102    73   research papers   faculty of materials sc...\n",
       "Name: Text, Length: 243, dtype: object"
      ]
     },
     "execution_count": 23,
     "metadata": {},
     "output_type": "execute_result"
    }
   ],
   "source": [
    "X_train"
   ]
  },
  {
   "cell_type": "code",
   "execution_count": 24,
   "id": "5d907486-d14b-4320-a46a-bf81428f155f",
   "metadata": {
    "tags": []
   },
   "outputs": [
    {
     "data": {
      "text/plain": [
       "79     0\n",
       "340    4\n",
       "18     1\n",
       "292    7\n",
       "104    6\n",
       "      ..\n",
       "188    8\n",
       "71     0\n",
       "106    6\n",
       "270    7\n",
       "102    6\n",
       "Name: label, Length: 243, dtype: int64"
      ]
     },
     "execution_count": 24,
     "metadata": {},
     "output_type": "execute_result"
    }
   ],
   "source": [
    "y_train"
   ]
  },
  {
   "cell_type": "markdown",
   "id": "e565f77d-4c5a-4a81-b673-7dc5cc308ef4",
   "metadata": {},
   "source": [
    "### Data Preprocessing"
   ]
  },
  {
   "cell_type": "code",
   "execution_count": 25,
   "id": "1cf4fe20-9b30-4f31-9695-3ae44bae6c9d",
   "metadata": {
    "tags": []
   },
   "outputs": [],
   "source": [
    "def clean_text(text):\n",
    "    text_length=[]\n",
    "    cleaned_text=[]\n",
    "    for sent in tqdm(text):\n",
    "        sent=sent.lower()\n",
    "        sent=nfx.remove_special_characters(sent)\n",
    "        sent=nfx.remove_stopwords(sent)\n",
    "#         sent=nfx.remove_shortwords(sent)\n",
    "        text_length.append(len(sent.split()))\n",
    "        cleaned_text.append(sent)\n",
    "    return cleaned_text,text_length"
   ]
  },
  {
   "cell_type": "code",
   "execution_count": 26,
   "id": "4ca93981-4d8d-4d82-8a3a-30a9a36717d4",
   "metadata": {
    "tags": []
   },
   "outputs": [
    {
     "name": "stderr",
     "output_type": "stream",
     "text": [
      "100%|██████████| 243/243 [00:01<00:00, 186.89it/s]\n",
      "100%|██████████| 105/105 [00:00<00:00, 190.19it/s]\n"
     ]
    }
   ],
   "source": [
    "cleaned_train_text,train_text_length=clean_text(X_train)\n",
    "cleaned_test_text,test_text_length=clean_text(X_test)"
   ]
  },
  {
   "cell_type": "code",
   "execution_count": 27,
   "id": "d0475f45-5d5f-46c7-94a8-4852b5c9c33e",
   "metadata": {
    "tags": []
   },
   "outputs": [],
   "source": [
    "tokenizer=Tokenizer()\n",
    "tokenizer.fit_on_texts(X_train)"
   ]
  },
  {
   "cell_type": "code",
   "execution_count": 28,
   "id": "56186afc-d609-4f0b-bdcd-f108003defc6",
   "metadata": {
    "tags": []
   },
   "outputs": [],
   "source": [
    "word_freq=pd.DataFrame(tokenizer.word_counts.items(),columns=['word','count']).sort_values(by='count',ascending=False)"
   ]
  },
  {
   "cell_type": "code",
   "execution_count": 29,
   "id": "96a9faed-7822-42c6-8400-b3b31c66ef58",
   "metadata": {
    "tags": []
   },
   "outputs": [],
   "source": [
    "train_text_seq=tokenizer.texts_to_sequences(X_train)\n",
    "train_text_pad=pad_sequences(train_text_seq,maxlen=400)\n",
    "\n",
    "\n",
    "test_text_seq=tokenizer.texts_to_sequences(X_test)\n",
    "test_text_pad=pad_sequences(test_text_seq,maxlen=400)"
   ]
  },
  {
   "cell_type": "code",
   "execution_count": 30,
   "id": "85b5bfc4-557a-4fd1-979e-17191c0734ad",
   "metadata": {
    "tags": []
   },
   "outputs": [],
   "source": [
    "v=len(tokenizer.word_index)"
   ]
  },
  {
   "cell_type": "code",
   "execution_count": 31,
   "id": "1d4d2911-cc10-4607-bcdb-cdfbb1e793b9",
   "metadata": {
    "tags": []
   },
   "outputs": [
    {
     "data": {
      "text/plain": [
       "33605"
      ]
     },
     "execution_count": 31,
     "metadata": {},
     "output_type": "execute_result"
    }
   ],
   "source": [
    "v"
   ]
  },
  {
   "cell_type": "code",
   "execution_count": 14,
   "id": "47229bb1-321e-46f2-943c-7f95bbbda293",
   "metadata": {
    "tags": []
   },
   "outputs": [
    {
     "data": {
      "text/html": [
       "<div>\n",
       "<style scoped>\n",
       "    .dataframe tbody tr th:only-of-type {\n",
       "        vertical-align: middle;\n",
       "    }\n",
       "\n",
       "    .dataframe tbody tr th {\n",
       "        vertical-align: top;\n",
       "    }\n",
       "\n",
       "    .dataframe thead th {\n",
       "        text-align: right;\n",
       "    }\n",
       "</style>\n",
       "<table border=\"1\" class=\"dataframe\">\n",
       "  <thead>\n",
       "    <tr style=\"text-align: right;\">\n",
       "      <th></th>\n",
       "      <th>word</th>\n",
       "      <th>count</th>\n",
       "    </tr>\n",
       "  </thead>\n",
       "  <tbody>\n",
       "    <tr>\n",
       "      <th>108</th>\n",
       "      <td>or</td>\n",
       "      <td>4705</td>\n",
       "    </tr>\n",
       "    <tr>\n",
       "      <th>152</th>\n",
       "      <td>that</td>\n",
       "      <td>4697</td>\n",
       "    </tr>\n",
       "    <tr>\n",
       "      <th>58</th>\n",
       "      <td>by</td>\n",
       "      <td>4488</td>\n",
       "    </tr>\n",
       "    <tr>\n",
       "      <th>45</th>\n",
       "      <td>are</td>\n",
       "      <td>4275</td>\n",
       "    </tr>\n",
       "    <tr>\n",
       "      <th>245</th>\n",
       "      <td>with</td>\n",
       "      <td>4256</td>\n",
       "    </tr>\n",
       "    <tr>\n",
       "      <th>...</th>\n",
       "      <td>...</td>\n",
       "      <td>...</td>\n",
       "    </tr>\n",
       "    <tr>\n",
       "      <th>651</th>\n",
       "      <td>increase</td>\n",
       "      <td>368</td>\n",
       "    </tr>\n",
       "    <tr>\n",
       "      <th>1017</th>\n",
       "      <td>effect</td>\n",
       "      <td>367</td>\n",
       "    </tr>\n",
       "    <tr>\n",
       "      <th>3516</th>\n",
       "      <td>rationalised</td>\n",
       "      <td>364</td>\n",
       "    </tr>\n",
       "    <tr>\n",
       "      <th>758</th>\n",
       "      <td>products</td>\n",
       "      <td>363</td>\n",
       "    </tr>\n",
       "    <tr>\n",
       "      <th>1709</th>\n",
       "      <td>date</td>\n",
       "      <td>363</td>\n",
       "    </tr>\n",
       "  </tbody>\n",
       "</table>\n",
       "<p>290 rows × 2 columns</p>\n",
       "</div>"
      ],
      "text/plain": [
       "              word  count\n",
       "108             or   4705\n",
       "152           that   4697\n",
       "58              by   4488\n",
       "45             are   4275\n",
       "245           with   4256\n",
       "...            ...    ...\n",
       "651       increase    368\n",
       "1017        effect    367\n",
       "3516  rationalised    364\n",
       "758       products    363\n",
       "1709          date    363\n",
       "\n",
       "[290 rows x 2 columns]"
      ]
     },
     "execution_count": 14,
     "metadata": {},
     "output_type": "execute_result"
    }
   ],
   "source": [
    "word_freq[10:300]"
   ]
  },
  {
   "cell_type": "markdown",
   "id": "5339a9f3-2ab7-46e7-b90a-2d0e826716e5",
   "metadata": {},
   "source": [
    "##### Using Glove Embeddings in .pkl format "
   ]
  },
  {
   "cell_type": "code",
   "execution_count": 15,
   "id": "43d4056d-ab6c-47f8-9d55-37eb566b8cad",
   "metadata": {
    "tags": []
   },
   "outputs": [],
   "source": [
    "# glove_embedding={}\n",
    "with open('glove.840B.300d.pkl', 'rb') as fp:\n",
    "    glove_embedding = pickle.load(fp)"
   ]
  },
  {
   "cell_type": "markdown",
   "id": "0c6d334c-1f7f-404c-8532-801f2fa2681c",
   "metadata": {},
   "source": [
    "##### One-hot encoding"
   ]
  },
  {
   "cell_type": "code",
   "execution_count": 32,
   "id": "c1736079-c83c-44eb-a103-3d6d1a5dbf5a",
   "metadata": {
    "tags": []
   },
   "outputs": [],
   "source": [
    "from tensorflow.keras.utils import to_categorical\n",
    "y_train_onehot = to_categorical(y_train, num_classes=10)\n",
    "y_test_onehot = to_categorical(y_test, num_classes=10)"
   ]
  },
  {
   "cell_type": "code",
   "execution_count": 33,
   "id": "e6e36071-9ca0-42ca-a9f0-80178fc50b5c",
   "metadata": {
    "tags": []
   },
   "outputs": [
    {
     "data": {
      "text/plain": [
       "array([[1., 0., 0., ..., 0., 0., 0.],\n",
       "       [0., 0., 0., ..., 0., 0., 0.],\n",
       "       [0., 1., 0., ..., 0., 0., 0.],\n",
       "       ...,\n",
       "       [0., 0., 0., ..., 0., 0., 0.],\n",
       "       [0., 0., 0., ..., 1., 0., 0.],\n",
       "       [0., 0., 0., ..., 0., 0., 0.]], dtype=float32)"
      ]
     },
     "execution_count": 33,
     "metadata": {},
     "output_type": "execute_result"
    }
   ],
   "source": [
    "y_train_onehot"
   ]
  },
  {
   "cell_type": "markdown",
   "id": "d431f3e9-1425-4882-b033-4baca16b721d",
   "metadata": {},
   "source": [
    "#### Embeddings Generation"
   ]
  },
  {
   "cell_type": "code",
   "execution_count": 34,
   "id": "70ff4713-0107-4fff-9e1c-c56a4f8fb15e",
   "metadata": {
    "tags": []
   },
   "outputs": [],
   "source": [
    "v=len(tokenizer.word_index)\n",
    "embedding_matrix=np.zeros((v+1,300), dtype=float)\n",
    "for word,idx in tokenizer.word_index.items():\n",
    "    embedding_vector=glove_embedding.get(word)\n",
    "    if embedding_vector is not None:\n",
    "        embedding_matrix[idx]=embedding_vector"
   ]
  },
  {
   "cell_type": "markdown",
   "id": "8d89eea1-3d0d-461d-93de-c407054e1773",
   "metadata": {},
   "source": [
    "#### LSTM based Model Architecture Definition"
   ]
  },
  {
   "cell_type": "code",
   "execution_count": 35,
   "id": "62538a54-9c66-4e0e-9578-32855cbada50",
   "metadata": {
    "tags": []
   },
   "outputs": [],
   "source": [
    "from tensorflow.keras.models import Sequential\n",
    "from tensorflow.keras.layers import Input, Embedding, LSTM, GlobalMaxPooling1D, Dense\n",
    "from tensorflow.keras.optimizers import Adam  \n",
    "import tensorflow.keras.backend as K\n",
    "\n",
    "num_classes = 10  \n",
    "\n",
    "model = Sequential()\n",
    "\n",
    "model.add(Input(shape=(400,)))\n",
    "\n",
    "model.add(Embedding(v+1, 300, weights=[embedding_matrix], trainable=False))\n",
    "\n",
    "model.add(LSTM(20, return_sequences=True))\n",
    "\n",
    "model.add(GlobalMaxPooling1D())\n",
    "\n",
    "model.add(Dense(256, activation='relu'))\n",
    "\n",
    "model.add(Dense(num_classes, activation='softmax')) \n",
    "\n",
    "model.compile(optimizer=Adam(learning_rate=0.005), loss='categorical_crossentropy', metrics=['accuracy'])  \n"
   ]
  },
  {
   "cell_type": "code",
   "execution_count": 36,
   "id": "99313786-bbbc-45cd-832a-0dab0b883b40",
   "metadata": {
    "tags": []
   },
   "outputs": [],
   "source": [
    "early_stop=EarlyStopping(patience=5)\n",
    "reducelr=ReduceLROnPlateau(patience=3)"
   ]
  },
  {
   "cell_type": "code",
   "execution_count": 37,
   "id": "1c2f2629-a291-4bdf-9f72-727841a3ac3e",
   "metadata": {
    "tags": []
   },
   "outputs": [
    {
     "name": "stdout",
     "output_type": "stream",
     "text": [
      "Epoch 1/10\n",
      "11/11 [==============================] - 20s 725ms/step - loss: 1.9314 - accuracy: 0.2922 - val_loss: 1.6402 - val_accuracy: 0.3619 - lr: 0.0050\n",
      "Epoch 2/10\n",
      "11/11 [==============================] - 5s 433ms/step - loss: 1.3885 - accuracy: 0.5761 - val_loss: 1.1764 - val_accuracy: 0.6857 - lr: 0.0050\n",
      "Epoch 3/10\n",
      "11/11 [==============================] - 5s 425ms/step - loss: 0.9424 - accuracy: 0.6584 - val_loss: 0.7854 - val_accuracy: 0.8381 - lr: 0.0050\n",
      "Epoch 4/10\n",
      "11/11 [==============================] - 5s 454ms/step - loss: 0.5533 - accuracy: 0.8889 - val_loss: 0.5154 - val_accuracy: 0.8667 - lr: 0.0050\n",
      "Epoch 5/10\n",
      "11/11 [==============================] - 5s 424ms/step - loss: 0.2663 - accuracy: 0.9753 - val_loss: 0.3210 - val_accuracy: 0.9333 - lr: 0.0050\n",
      "Epoch 6/10\n",
      "11/11 [==============================] - 5s 435ms/step - loss: 0.1076 - accuracy: 1.0000 - val_loss: 0.2218 - val_accuracy: 0.9524 - lr: 0.0050\n",
      "Epoch 7/10\n",
      "11/11 [==============================] - 5s 424ms/step - loss: 0.0382 - accuracy: 1.0000 - val_loss: 0.1968 - val_accuracy: 0.9429 - lr: 0.0050\n",
      "Epoch 8/10\n",
      "11/11 [==============================] - 5s 429ms/step - loss: 0.0176 - accuracy: 1.0000 - val_loss: 0.1324 - val_accuracy: 0.9619 - lr: 0.0050\n",
      "Epoch 9/10\n",
      "11/11 [==============================] - 5s 427ms/step - loss: 0.0084 - accuracy: 1.0000 - val_loss: 0.0964 - val_accuracy: 0.9619 - lr: 0.0050\n",
      "Epoch 10/10\n",
      "11/11 [==============================] - 5s 444ms/step - loss: 0.0091 - accuracy: 1.0000 - val_loss: 0.0682 - val_accuracy: 0.9810 - lr: 0.0050\n"
     ]
    }
   ],
   "source": [
    "r=model.fit(train_text_pad,np.array(y_train_onehot),validation_data=(test_text_pad,np.array(y_test_onehot)),\n",
    "            epochs=10,batch_size=24,callbacks=[reducelr])"
   ]
  },
  {
   "cell_type": "markdown",
   "id": "f6b12bd5-348e-482b-beaa-1cc0d555ce81",
   "metadata": {},
   "source": [
    "#### 100% Training Accuracy and 98.10% Testing Accuracy on the Collected Dataset "
   ]
  },
  {
   "cell_type": "markdown",
   "id": "b306dd80-9a11-4f85-bfb6-61e1a8c67537",
   "metadata": {},
   "source": [
    "### Testing on Test PDFs"
   ]
  },
  {
   "cell_type": "code",
   "execution_count": 211,
   "id": "fc6527a8-9b04-4b53-acc8-21376ebcdf3d",
   "metadata": {
    "tags": []
   },
   "outputs": [
    {
     "name": "stdout",
     "output_type": "stream",
     "text": [
      "1/1 [==============================] - 1s 848ms/step\n",
      "1/1 [==============================] - 0s 116ms/step\n",
      "1/1 [==============================] - 0s 66ms/step\n",
      "1/1 [==============================] - 0s 67ms/step\n",
      "1/1 [==============================] - 0s 69ms/step\n",
      "1/1 [==============================] - 0s 67ms/step\n",
      "1/1 [==============================] - 0s 66ms/step\n",
      "1/1 [==============================] - 0s 73ms/step\n",
      "1/1 [==============================] - 0s 65ms/step\n",
      "1/1 [==============================] - 0s 67ms/step\n",
      "Accuracy: 100.00%\n"
     ]
    }
   ],
   "source": [
    "import os\n",
    "import PyPDF2\n",
    "from tensorflow.keras.preprocessing.sequence import pad_sequences\n",
    "import numpy as np\n",
    "\n",
    "\n",
    "def extract_text_from_pdf(pdf_path):\n",
    "    with open(pdf_path, 'rb') as file:\n",
    "        reader = PyPDF2.PdfReader(file)\n",
    "        text = ''\n",
    "        if len(reader.pages)<100:\n",
    "            for page_num in range(len(reader.pages)):\n",
    "                text += reader.pages[page_num].extract_text()\n",
    "            text = text.replace(\"\\n\", \" \")\n",
    "        else:\n",
    "            for page_num in range(100):\n",
    "                text += reader.pages[page_num].extract_text()\n",
    "            text = text.replace(\"\\n\", \" \")\n",
    "    return text.strip()\n",
    "\n",
    "\n",
    "predicted_labels = []\n",
    "ground_truth_labels = []\n",
    "\n",
    "for filename in os.listdir(folder_path):\n",
    "    if filename.endswith(\".pdf\"):\n",
    "\n",
    "        pdf_text = extract_text_from_pdf(os.path.join(folder_path, filename))\n",
    "        preprocessed_text = tokenizer.texts_to_sequences([pdf_text])\n",
    "        padded_text=pad_sequences(preprocessed_text,maxlen=400)\n",
    "        predictions = model.predict(padded_text)\n",
    "        predicted_class_index = np.argmax(predictions)\n",
    "        predicted_labels.append(predicted_class_index)\n",
    "        \n",
    "        ground_truth_label = int(filename.split(\".\")[0]) - 1\n",
    "        ground_truth_labels.append(ground_truth_label)\n",
    "\n",
    "accuracy = np.mean(np.array(predicted_labels) == np.array(ground_truth_labels)) * 100\n",
    "print(f\"Accuracy: {accuracy:.2f}%\")       "
   ]
  },
  {
   "cell_type": "code",
   "execution_count": 212,
   "id": "22887bd5-a389-4133-a7fc-405ad1881118",
   "metadata": {
    "tags": []
   },
   "outputs": [
    {
     "data": {
      "text/plain": [
       "[0, 9, 1, 2, 3, 4, 5, 6, 7, 8]"
      ]
     },
     "execution_count": 212,
     "metadata": {},
     "output_type": "execute_result"
    }
   ],
   "source": [
    "predicted_labels"
   ]
  },
  {
   "cell_type": "code",
   "execution_count": 213,
   "id": "3eb9bdf7-6f8c-47b9-a7c1-be238c4bac38",
   "metadata": {
    "tags": []
   },
   "outputs": [
    {
     "data": {
      "text/plain": [
       "[0, 9, 1, 2, 3, 4, 5, 6, 7, 8]"
      ]
     },
     "execution_count": 213,
     "metadata": {},
     "output_type": "execute_result"
    }
   ],
   "source": [
    "ground_truth_labels"
   ]
  },
  {
   "cell_type": "markdown",
   "id": "4dd5cdbe-8943-4852-970e-b5bb49579e52",
   "metadata": {},
   "source": [
    "### 100% Accuracy on given test files"
   ]
  },
  {
   "cell_type": "code",
   "execution_count": null,
   "id": "3026a2c4-2a0f-4c5a-a118-f7fdc0bec96b",
   "metadata": {},
   "outputs": [],
   "source": [
    "model.save('my_model.h5')"
   ]
  },
  {
   "cell_type": "code",
   "execution_count": 39,
   "id": "d18a93bb-6edc-41be-8718-ff30cd0e351d",
   "metadata": {
    "tags": []
   },
   "outputs": [],
   "source": [
    "model = load_model('my_model.h5')"
   ]
  },
  {
   "cell_type": "code",
   "execution_count": null,
   "id": "b9555ef4-8765-49b8-ac3c-7523ca651d25",
   "metadata": {},
   "outputs": [],
   "source": []
  },
  {
   "cell_type": "code",
   "execution_count": null,
   "id": "b54f521b-ea9d-4d55-9def-7c2175082fb8",
   "metadata": {},
   "outputs": [],
   "source": []
  },
  {
   "cell_type": "code",
   "execution_count": null,
   "id": "8d0505ac-20b9-4fd4-9ee5-1e1083226656",
   "metadata": {},
   "outputs": [],
   "source": []
  },
  {
   "cell_type": "markdown",
   "id": "c189558b-98e8-4180-b238-6a107d12ed59",
   "metadata": {},
   "source": [
    "### LLM Server (In progress)"
   ]
  },
  {
   "cell_type": "markdown",
   "id": "420b012c-0542-44af-a1d4-65e25ea591a7",
   "metadata": {},
   "source": [
    "##### We are trying to finetune a local llm then running it into LM Studio"
   ]
  },
  {
   "cell_type": "markdown",
   "id": "5fe64624-6332-4eed-b5f4-e57710bfed2b",
   "metadata": {},
   "source": [
    "#### Currently not developed fully"
   ]
  },
  {
   "cell_type": "code",
   "execution_count": 27,
   "id": "1b97376e-447f-4210-a1d2-e2338b56bc2c",
   "metadata": {
    "tags": []
   },
   "outputs": [],
   "source": [
    "from openai import OpenAI\n",
    "\n",
    "client = OpenAI(base_url=\"http://localhost:1234/v1\", api_key=\"not-needed\")\n",
    "\n",
    "def llm_output(prompts):\n",
    "        llm_list = []\n",
    "        for prompt in prompts:\n",
    "            completion = client.chat.completions.create(\n",
    "              model=\"local-model\", # this field is currently unused\n",
    "              messages=[\n",
    "                {\"role\": \"system\", \"content\": \"Answer in the range of 0 - 9\"},\n",
    "                {f\"role\": \"user\", \"content\": \"Tell in which category this document lies : {prompt}\"}\n",
    "              ],\n",
    "              temperature=0.7,\n",
    "            )\n",
    "            llm_list.append(completion.choices[0].message)\n",
    "        return llm_list"
   ]
  },
  {
   "cell_type": "code",
   "execution_count": 137,
   "id": "521066ec-3b21-4b98-bdd5-9d7c6f179990",
   "metadata": {
    "tags": []
   },
   "outputs": [
    {
     "name": "stdout",
     "output_type": "stream",
     "text": [
      "[ChatCompletionMessage(content=' Fake\\n', role='assistant', function_call=None, tool_calls=None)]\n"
     ]
    }
   ],
   "source": [
    "llm = llm_output([\"Great product, everyone should buy it\"])\n",
    "print(llm)"
   ]
  },
  {
   "cell_type": "code",
   "execution_count": null,
   "id": "2d0079f3-d965-4f5b-9994-46c9f0456ac6",
   "metadata": {},
   "outputs": [],
   "source": []
  },
  {
   "cell_type": "code",
   "execution_count": null,
   "id": "5b5f1c25-b3d4-4631-86f0-591444f60fcc",
   "metadata": {},
   "outputs": [],
   "source": []
  }
 ],
 "metadata": {
  "kernelspec": {
   "display_name": "Python 3 (ipykernel)",
   "language": "python",
   "name": "python3"
  },
  "language_info": {
   "codemirror_mode": {
    "name": "ipython",
    "version": 3
   },
   "file_extension": ".py",
   "mimetype": "text/x-python",
   "name": "python",
   "nbconvert_exporter": "python",
   "pygments_lexer": "ipython3",
   "version": "3.11.5"
  }
 },
 "nbformat": 4,
 "nbformat_minor": 5
}
